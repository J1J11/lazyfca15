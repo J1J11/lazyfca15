{
 "cells": [
  {
   "cell_type": "code",
   "execution_count": 358,
   "metadata": {},
   "outputs": [],
   "source": [
    "import pandas as pd\n",
    "import numpy as np\n",
    "import random"
   ]
  },
  {
   "cell_type": "markdown",
   "metadata": {},
   "source": [
    "### Data prepocessing"
   ]
  },
  {
   "cell_type": "code",
   "execution_count": 359,
   "metadata": {},
   "outputs": [],
   "source": [
    "data = pd.read_csv('data_banknote_authentication.txt', sep=',', header=None)"
   ]
  },
  {
   "cell_type": "code",
   "execution_count": 360,
   "metadata": {},
   "outputs": [],
   "source": [
    "data.rename(columns={0: 'variance', 1: 'skewness', 2: 'curtosis', 3: 'entropy', 4: 'is_forged'}, inplace=True)"
   ]
  },
  {
   "cell_type": "code",
   "execution_count": 361,
   "metadata": {},
   "outputs": [
    {
     "data": {
      "text/plain": [
       "(1372, 5)"
      ]
     },
     "execution_count": 361,
     "metadata": {},
     "output_type": "execute_result"
    }
   ],
   "source": [
    "data.shape"
   ]
  },
  {
   "cell_type": "code",
   "execution_count": 362,
   "metadata": {},
   "outputs": [
    {
     "data": {
      "text/html": [
       "<div>\n",
       "<style scoped>\n",
       "    .dataframe tbody tr th:only-of-type {\n",
       "        vertical-align: middle;\n",
       "    }\n",
       "\n",
       "    .dataframe tbody tr th {\n",
       "        vertical-align: top;\n",
       "    }\n",
       "\n",
       "    .dataframe thead th {\n",
       "        text-align: right;\n",
       "    }\n",
       "</style>\n",
       "<table border=\"1\" class=\"dataframe\">\n",
       "  <thead>\n",
       "    <tr style=\"text-align: right;\">\n",
       "      <th></th>\n",
       "      <th>variance</th>\n",
       "      <th>skewness</th>\n",
       "      <th>curtosis</th>\n",
       "      <th>entropy</th>\n",
       "      <th>is_forged</th>\n",
       "    </tr>\n",
       "  </thead>\n",
       "  <tbody>\n",
       "    <tr>\n",
       "      <th>0</th>\n",
       "      <td>3.6216</td>\n",
       "      <td>8.6661</td>\n",
       "      <td>-2.8073</td>\n",
       "      <td>-0.44699</td>\n",
       "      <td>0</td>\n",
       "    </tr>\n",
       "    <tr>\n",
       "      <th>1</th>\n",
       "      <td>4.5459</td>\n",
       "      <td>8.1674</td>\n",
       "      <td>-2.4586</td>\n",
       "      <td>-1.46210</td>\n",
       "      <td>0</td>\n",
       "    </tr>\n",
       "  </tbody>\n",
       "</table>\n",
       "</div>"
      ],
      "text/plain": [
       "   variance  skewness  curtosis  entropy  is_forged\n",
       "0    3.6216    8.6661   -2.8073 -0.44699          0\n",
       "1    4.5459    8.1674   -2.4586 -1.46210          0"
      ]
     },
     "execution_count": 362,
     "metadata": {},
     "output_type": "execute_result"
    }
   ],
   "source": [
    "data[:2]"
   ]
  },
  {
   "cell_type": "markdown",
   "metadata": {},
   "source": [
    "#### Dividing by quantiles"
   ]
  },
  {
   "cell_type": "code",
   "execution_count": 363,
   "metadata": {},
   "outputs": [],
   "source": [
    "features = ['variance', 'skewness', 'curtosis', 'entropy']\n",
    "for i in features:\n",
    "    data[i] = pd.qcut(data[i], 4)"
   ]
  },
  {
   "cell_type": "code",
   "execution_count": 364,
   "metadata": {},
   "outputs": [],
   "source": [
    "data = pd.get_dummies(data, columns = features)"
   ]
  },
  {
   "cell_type": "code",
   "execution_count": 365,
   "metadata": {},
   "outputs": [],
   "source": [
    "features[0] = features[0][:3]\n",
    "\n",
    "prefix = []\n",
    "for i in features:\n",
    "    prefix = prefix + [i + str(j) for j in range(4)]\n",
    "\n",
    "for i, k in zip(data.columns[1:], (range(len(data.columns[1:])))):\n",
    "                data.rename(columns={i: prefix[k]}, inplace=True)    "
   ]
  },
  {
   "cell_type": "code",
   "execution_count": 366,
   "metadata": {},
   "outputs": [
    {
     "data": {
      "text/html": [
       "<div>\n",
       "<style scoped>\n",
       "    .dataframe tbody tr th:only-of-type {\n",
       "        vertical-align: middle;\n",
       "    }\n",
       "\n",
       "    .dataframe tbody tr th {\n",
       "        vertical-align: top;\n",
       "    }\n",
       "\n",
       "    .dataframe thead th {\n",
       "        text-align: right;\n",
       "    }\n",
       "</style>\n",
       "<table border=\"1\" class=\"dataframe\">\n",
       "  <thead>\n",
       "    <tr style=\"text-align: right;\">\n",
       "      <th></th>\n",
       "      <th>is_forged</th>\n",
       "      <th>var0</th>\n",
       "      <th>var1</th>\n",
       "      <th>var2</th>\n",
       "      <th>var3</th>\n",
       "      <th>skewness0</th>\n",
       "      <th>skewness1</th>\n",
       "      <th>skewness2</th>\n",
       "      <th>skewness3</th>\n",
       "      <th>curtosis0</th>\n",
       "      <th>curtosis1</th>\n",
       "      <th>curtosis2</th>\n",
       "      <th>curtosis3</th>\n",
       "      <th>entropy0</th>\n",
       "      <th>entropy1</th>\n",
       "      <th>entropy2</th>\n",
       "      <th>entropy3</th>\n",
       "    </tr>\n",
       "  </thead>\n",
       "  <tbody>\n",
       "    <tr>\n",
       "      <th>0</th>\n",
       "      <td>0</td>\n",
       "      <td>0</td>\n",
       "      <td>0</td>\n",
       "      <td>0</td>\n",
       "      <td>1</td>\n",
       "      <td>0</td>\n",
       "      <td>0</td>\n",
       "      <td>0</td>\n",
       "      <td>1</td>\n",
       "      <td>1</td>\n",
       "      <td>0</td>\n",
       "      <td>0</td>\n",
       "      <td>0</td>\n",
       "      <td>0</td>\n",
       "      <td>0</td>\n",
       "      <td>1</td>\n",
       "      <td>0</td>\n",
       "    </tr>\n",
       "    <tr>\n",
       "      <th>1</th>\n",
       "      <td>0</td>\n",
       "      <td>0</td>\n",
       "      <td>0</td>\n",
       "      <td>0</td>\n",
       "      <td>1</td>\n",
       "      <td>0</td>\n",
       "      <td>0</td>\n",
       "      <td>0</td>\n",
       "      <td>1</td>\n",
       "      <td>1</td>\n",
       "      <td>0</td>\n",
       "      <td>0</td>\n",
       "      <td>0</td>\n",
       "      <td>0</td>\n",
       "      <td>1</td>\n",
       "      <td>0</td>\n",
       "      <td>0</td>\n",
       "    </tr>\n",
       "  </tbody>\n",
       "</table>\n",
       "</div>"
      ],
      "text/plain": [
       "   is_forged  var0  var1  var2  var3  skewness0  skewness1  skewness2  \\\n",
       "0          0     0     0     0     1          0          0          0   \n",
       "1          0     0     0     0     1          0          0          0   \n",
       "\n",
       "   skewness3  curtosis0  curtosis1  curtosis2  curtosis3  entropy0  entropy1  \\\n",
       "0          1          1          0          0          0         0         0   \n",
       "1          1          1          0          0          0         0         1   \n",
       "\n",
       "   entropy2  entropy3  \n",
       "0         1         0  \n",
       "1         0         0  "
      ]
     },
     "execution_count": 366,
     "metadata": {},
     "output_type": "execute_result"
    }
   ],
   "source": [
    "data[:2]"
   ]
  },
  {
   "cell_type": "markdown",
   "metadata": {},
   "source": [
    "## Cross Validation"
   ]
  },
  {
   "cell_type": "code",
   "execution_count": 367,
   "metadata": {},
   "outputs": [],
   "source": [
    "from sklearn.model_selection import KFold\n",
    "\n",
    "kf = KFold(n_splits=10, shuffle=True, random_state=None)\n",
    "\n",
    "for k, (train, test) in enumerate(kf.split(data)):\n",
    "    data.iloc[train].to_csv('train' + str(k+1) + '.csv', index=False, header=False)\n",
    "    data.iloc[test].to_csv('test'+str(k+1) + '.csv', index=False, header=False)"
   ]
  },
  {
   "cell_type": "markdown",
   "metadata": {},
   "source": [
    "#### Composing on Plus and Minus context"
   ]
  },
  {
   "cell_type": "code",
   "execution_count": 369,
   "metadata": {},
   "outputs": [],
   "source": [
    "def load(i):\n",
    "    train = pd.read_csv('train' + str(i) + '.csv' , sep=',', header=None)\n",
    "    plus = train[train[0]==1]\n",
    "    minus = train[train[0]==0]\n",
    "    unknown = pd.read_csv('test' + str(i) + '.csv' , sep=',', header=None)\n",
    "    \n",
    "    return np.array(plus), np.array(minus), np.array(unknown)"
   ]
  },
  {
   "cell_type": "code",
   "execution_count": 371,
   "metadata": {},
   "outputs": [
    {
     "data": {
      "text/plain": [
       "['is_forged',\n",
       " 'var0',\n",
       " 'var1',\n",
       " 'var2',\n",
       " 'var3',\n",
       " 'skewness0',\n",
       " 'skewness1',\n",
       " 'skewness2',\n",
       " 'skewness3',\n",
       " 'curtosis0',\n",
       " 'curtosis1',\n",
       " 'curtosis2',\n",
       " 'curtosis3',\n",
       " 'entropy0',\n",
       " 'entropy1',\n",
       " 'entropy2',\n",
       " 'entropy3']"
      ]
     },
     "execution_count": 371,
     "metadata": {},
     "output_type": "execute_result"
    }
   ],
   "source": [
    "attrib_names=list(data)\n",
    "attrib_names"
   ]
  },
  {
   "cell_type": "code",
   "execution_count": 262,
   "metadata": {},
   "outputs": [],
   "source": [
    "def make_intent(example):\n",
    "    return set([i + ':' + str(k) for i, k in zip(attrib_names, example) if k])"
   ]
  },
  {
   "cell_type": "markdown",
   "metadata": {},
   "source": [
    "#### Metrics"
   ]
  },
  {
   "cell_type": "code",
   "execution_count": 263,
   "metadata": {},
   "outputs": [],
   "source": [
    "def accuracy(r):\n",
    "    return float(r[\"TP\"] + r[\"TN\"]) / max(1, r[\"TP\"] + r[\"TN\"] + r[\"FP\"] + r[\"FN\"] + r[\"contradictory\"])\n",
    "\n",
    "def precision(r):\n",
    "    return float(r[\"TP\"]) / max(1, r[\"TP\"] + r[\"FP\"])\n",
    "\n",
    "def recall(r):\n",
    "    return float(r[\"TP\"]) / max(1, r[\"TP\"] + r[\"FN\"])\n",
    "\n",
    "def results(r):\n",
    "    metrics = {}\n",
    "    metrics[\"accuracy\"] = accuracy(r)\n",
    "    metrics[\"precision\"] = precision(r)\n",
    "    metrics[\"recall\"] = recall(r)\n",
    "    return metrics"
   ]
  },
  {
   "cell_type": "markdown",
   "metadata": {},
   "source": [
    "### Algorithm1"
   ]
  },
  {
   "cell_type": "code",
   "execution_count": 301,
   "metadata": {},
   "outputs": [],
   "source": [
    "def algorithm1(context_plus, context_minus, example):\n",
    "    a = 0; b = 0\n",
    "    eintent = make_intent(example)\n",
    "    eintent.discard('is_forged:1')\n",
    "    eintent.discard('is_forged:0')\n",
    "    labels = {\"positive\": 0, \"negative\": 0}\n",
    "\n",
    "    for e in context_plus:\n",
    "        ei = make_intent(e)\n",
    "        candidate_intent = ei & eintent\n",
    "        a += len(candidate_intent)\n",
    "\n",
    "    for e in context_minus:\n",
    "        ei = make_intent(e)\n",
    "        candidate_intent = ei & eintent\n",
    "        b +=len(candidate_intent)\n",
    "\n",
    "    a = a/len(context_plus)\n",
    "    b = b/len(context_minus)\n",
    "\n",
    "    if a > b:\n",
    "        if example[0]:\n",
    "            return \"TP\"\n",
    "        return \"FP\"\n",
    "    \n",
    "    elif a < b:\n",
    "        if example[0]:\n",
    "            return \"FN\"\n",
    "        return \"TN\"\n",
    "    else:\n",
    "        return \"contradictory\"\n",
    "    "
   ]
  },
  {
   "cell_type": "code",
   "execution_count": 305,
   "metadata": {},
   "outputs": [
    {
     "data": {
      "text/plain": [
       "[1, 1, 2]"
      ]
     },
     "execution_count": 305,
     "metadata": {},
     "output_type": "execute_result"
    }
   ],
   "source": [
    "a = [1,1,2]\n",
    "a[:8]"
   ]
  },
  {
   "cell_type": "code",
   "execution_count": 317,
   "metadata": {
    "scrolled": false
   },
   "outputs": [
    {
     "ename": "TypeError",
     "evalue": "sample() missing 1 required positional argument: 'k'",
     "output_type": "error",
     "traceback": [
      "\u001b[1;31m---------------------------------------------------------------------------\u001b[0m",
      "\u001b[1;31mTypeError\u001b[0m                                 Traceback (most recent call last)",
      "\u001b[1;32m<ipython-input-317-e72edc2af741>\u001b[0m in \u001b[0;36m<module>\u001b[1;34m\u001b[0m\n\u001b[1;32m----> 1\u001b[1;33m \u001b[0mrandom\u001b[0m\u001b[1;33m.\u001b[0m\u001b[0msample\u001b[0m\u001b[1;33m(\u001b[0m\u001b[0ma\u001b[0m\u001b[1;33m,\u001b[0m \u001b[1;33m)\u001b[0m\u001b[1;33m\u001b[0m\u001b[1;33m\u001b[0m\u001b[0m\n\u001b[0m",
      "\u001b[1;31mTypeError\u001b[0m: sample() missing 1 required positional argument: 'k'"
     ]
    }
   ],
   "source": [
    "random.sample(a, )"
   ]
  },
  {
   "cell_type": "code",
   "execution_count": 340,
   "metadata": {},
   "outputs": [],
   "source": [
    "l = list(range(9))"
   ]
  },
  {
   "cell_type": "code",
   "execution_count": 341,
   "metadata": {},
   "outputs": [],
   "source": [
    "random.shuffle(l)"
   ]
  },
  {
   "cell_type": "code",
   "execution_count": 342,
   "metadata": {},
   "outputs": [
    {
     "data": {
      "text/plain": [
       "[5, 0, 3, 7, 1]"
      ]
     },
     "execution_count": 342,
     "metadata": {},
     "output_type": "execute_result"
    }
   ],
   "source": [
    "l[:5]"
   ]
  },
  {
   "cell_type": "markdown",
   "metadata": {},
   "source": [
    "## Algorithm 2"
   ]
  },
  {
   "cell_type": "code",
   "execution_count": 372,
   "metadata": {},
   "outputs": [],
   "source": [
    "def algorithm2(context_plus, context_minus, example):\n",
    "    \n",
    "    l = list(range(len(context_plus)))\n",
    "    random.shuffle(l)  \n",
    "    context_plus = context_plus[l[:55]]\n",
    "    l = list(range(len(context_minus)))\n",
    "    random.shuffle(l)\n",
    "    context_minus = context_minus[l[:68]]\n",
    "    \n",
    "    eintent = make_intent(example)\n",
    "    eintent.discard('is_forged:1')\n",
    "    eintent.discard('is_forged:0')\n",
    "    labels = {\"positive\": 0, \"negative\": 0}\n",
    "    for e in context_plus:\n",
    "        ei = make_intent(e)\n",
    "        candidate_intent = ei & eintent\n",
    "        closure = [make_intent(i).issuperset(candidate_intent) for i in context_minus]\n",
    "\n",
    "        if sum(closure)==0:\n",
    "            labels[\"positive\"] += 1\n",
    "    for e in context_minus:\n",
    "        ei = make_intent(e)\n",
    "        candidate_intent = ei & eintent\n",
    "        closure = [make_intent(i).issuperset(candidate_intent) for i in context_plus]\n",
    "\n",
    "        if sum(closure)==0:\n",
    "            labels[\"negative\"] += 1\n",
    "            \n",
    "    labels[\"positive\"] = labels[\"positive\"]/len(context_plus)\n",
    "    labels[\"negative\"] = labels[\"negative\"]/len(context_minus)\n",
    "    \n",
    "    if labels[\"positive\"] > labels[\"negative\"]:\n",
    "        if example[0]:\n",
    "\n",
    "            return \"TP\"\n",
    "        return \"FP\"\n",
    "    elif labels[\"positive\"] < labels[\"negative\"]:\n",
    "        if example[0]:\n",
    "            return \"FN\"\n",
    "        return \"TN\"\n",
    "    elif labels[\"positive\"] == labels[\"negative\"]:\n",
    "        return \"contradictory\""
   ]
  },
  {
   "cell_type": "markdown",
   "metadata": {},
   "source": [
    "## Algorithm Launch"
   ]
  },
  {
   "cell_type": "code",
   "execution_count": 297,
   "metadata": {},
   "outputs": [],
   "source": [
    "def summary(algorithm_name):\n",
    "    # time on\n",
    "    import timeit\n",
    "    start = timeit.default_timer()\n",
    "\n",
    "    acc = 0\n",
    "    prec = 0\n",
    "    rec = 0\n",
    "    for index in range(1,11):\n",
    "        (iplus, iminus, iunknown) = load(index)\n",
    "        cv_res = {\n",
    "            \"TP\": 0,\n",
    "            \"TN\": 0,\n",
    "            \"FP\": 0,\n",
    "            \"FN\": 0,\n",
    "            \"contradictory\": 0,\n",
    "            }\n",
    "        for elem in iunknown:\n",
    "            pin = algorithm_name(iplus, iminus, elem)\n",
    "            cv_res[pin] += 1\n",
    "            \n",
    "        res = results(cv_res)\n",
    "        acc += res['accuracy']\n",
    "        prec += res['precision']\n",
    "        rec += res['recall']\n",
    "    \n",
    "    # find mean results for cross-validation\n",
    "    acc = acc/10\n",
    "    prec = prec/10\n",
    "    rec = rec/10\n",
    "    \n",
    "    # time off    \n",
    "    stop = timeit.default_timer()\n",
    "    time = stop - start\n",
    "\n",
    "    return acc, prec, rec, time"
   ]
  },
  {
   "cell_type": "code",
   "execution_count": 271,
   "metadata": {
    "scrolled": true
   },
   "outputs": [
    {
     "name": "stdout",
     "output_type": "stream",
     "text": [
      "Accuracy: 87.3135512535703%\n",
      "Precision: 84.07073506887184%\n",
      "Recall: 88.63998912627322%\n",
      "Time of algorithm work: 27.214702186000068\n"
     ]
    }
   ],
   "source": [
    "(a1,p1,r1,time1) = summary(algorithm1)\n",
    "print('Accuracy: '+str(a1*100)+'%')\n",
    "print('Precision: '+str(p1*100)+'%')\n",
    "print('Recall: '+str(r1*100)+'%')\n",
    "print('Time of algorithm work: '+str(time1))"
   ]
  },
  {
   "cell_type": "code",
   "execution_count": 344,
   "metadata": {
    "scrolled": true
   },
   "outputs": [
    {
     "name": "stdout",
     "output_type": "stream",
     "text": [
      "Accuracy: 94.2425684967735%\n",
      "Precision: 94.04607271891679%\n",
      "Recall: 96.66493532334384%\n",
      "Time of algorithm work: 173.96348000800208\n"
     ]
    }
   ],
   "source": [
    "(a2,p2,r2,time2) = summary(algorithm2)\n",
    "print('Accuracy: '+str(a2*100)+'%')\n",
    "print('Precision: '+str(p2*100)+'%')\n",
    "print('Recall: '+str(r2*100)+'%')\n",
    "print('Time of algorithm work: '+str(time2))"
   ]
  }
 ],
 "metadata": {
  "kernelspec": {
   "display_name": "Python 3",
   "language": "python",
   "name": "python3"
  },
  "language_info": {
   "codemirror_mode": {
    "name": "ipython",
    "version": 3
   },
   "file_extension": ".py",
   "mimetype": "text/x-python",
   "name": "python",
   "nbconvert_exporter": "python",
   "pygments_lexer": "ipython3",
   "version": "3.7.3"
  }
 },
 "nbformat": 4,
 "nbformat_minor": 2
}
